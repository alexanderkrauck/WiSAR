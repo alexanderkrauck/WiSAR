{
 "cells": [
  {
   "cell_type": "markdown",
   "id": "24713df4",
   "metadata": {},
   "source": [
    "# Lab S2 (6./7./9./10./ Dec 2021): Initial Ideas, First Tests"
   ]
  },
  {
   "cell_type": "code",
   "execution_count": 1,
   "id": "b38f18de",
   "metadata": {},
   "outputs": [],
   "source": [
    "import numpy as np\n",
    "import cv2\n",
    "import json\n",
    "import PIL\n",
    "from matplotlib import image\n",
    "from matplotlib import pyplot as plt"
   ]
  },
  {
   "cell_type": "markdown",
   "id": "8330a4fc",
   "metadata": {},
   "source": [
    "#### Thoughts and notes\n",
    "- preprocessing should do color correction to deal with the different camera colors\n"
   ]
  },
  {
   "cell_type": "markdown",
   "id": "103390a2",
   "metadata": {},
   "source": [
    "#### stiching the images together\n"
   ]
  },
  {
   "cell_type": "code",
   "execution_count": 2,
   "id": "73bc768c",
   "metadata": {},
   "outputs": [],
   "source": [
    "def integrate_timestep(timestep,path,homography,mask):\n",
    "    #create a mask:\n",
    "    image_mask = np.asarray(PIL.Image.open(mask))\n",
    "    mask = np.zeros(shape=(1024,1024,3))\n",
    "    #PIL.Image.fromarray(np.uint8(image_mask)).show()\n",
    "    for i in range(3): \n",
    "        mask[:,:,i] = image_mask.astype(bool).copy()\n",
    "\n",
    "    #create overlap mask:\n",
    "    ov_mask=mask.copy()\n",
    "\n",
    "    #final_integrated_image:\n",
    "    int_im=np.zeros(shape=(len(mask),len(mask[0]),3))\n",
    "\n",
    "\n",
    "\n",
    "    # Opening JSON file\n",
    "    data = homography\n",
    "    names=list(data.keys())\n",
    "\n",
    "\n",
    "    #filter for timestep:\n",
    "    index= list([True if item[0]==str(timestep) else False for i,item in enumerate(names)])\n",
    "    filtered_names = [i for (i, v) in zip(names, index) if v]\n",
    "\n",
    "\n",
    "    #apply homographies, the mask overlap and integrate images\n",
    "    for i,name in enumerate(filtered_names):\n",
    "        #load homography\n",
    "        homography= np.array(data[name])\n",
    "\n",
    "        #load image\n",
    "        im_file_name=path+name+\".png\"\n",
    "        im = np.asarray(PIL.Image.open(im_file_name))\n",
    "\n",
    "        #mask out:\n",
    "        im = np.multiply(im, mask) \n",
    "\n",
    "        #apply homography\n",
    "        #PIL.Image.fromarray(np.uint8(im)).show()\n",
    "        warped_image =cv2.warpPerspective(im,homography,im.shape[:2])\n",
    "        #PIL.Image.fromarray(np.uint8(warped_image)).show()\n",
    "\n",
    "        #adjust final overlapp mask\n",
    "        ov_mask = np.where(warped_image > 0, ov_mask, 0)\n",
    "\n",
    "        #integrate_images:\n",
    "        int_im=int_im+warped_image\n",
    "\n",
    "    #only areas where all images contributed count:\n",
    "    int_im=np.multiply(int_im, ov_mask) \n",
    "\n",
    "    #normalize\n",
    "    int_im=int_im/len(filtered_names)\n",
    "    \n",
    "    return int_im"
   ]
  },
  {
   "cell_type": "code",
   "execution_count": 6,
   "id": "638048d4",
   "metadata": {},
   "outputs": [],
   "source": [
    "\n",
    "path='data/train/train-1-9/'\n",
    "f = open(path+\"homographies.json\")\n",
    "homography = json.load(f)\n",
    "f.close()\n",
    "mask='data/mask.png'\n",
    "results= integrate_timestep(2,path,homography,'data/mask.png')\n",
    "PIL.Image.fromarray(np.uint8(results)).show()"
   ]
  },
  {
   "cell_type": "code",
   "execution_count": null,
   "id": "b6d8483a",
   "metadata": {},
   "outputs": [],
   "source": []
  }
 ],
 "metadata": {
  "kernelspec": {
   "display_name": "AI_2",
   "language": "python",
   "name": "ai_2"
  },
  "language_info": {
   "codemirror_mode": {
    "name": "ipython",
    "version": 3
   },
   "file_extension": ".py",
   "mimetype": "text/x-python",
   "name": "python",
   "nbconvert_exporter": "python",
   "pygments_lexer": "ipython3",
   "version": "3.8.5"
  }
 },
 "nbformat": 4,
 "nbformat_minor": 5
}
