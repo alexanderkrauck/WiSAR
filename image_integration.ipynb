{
 "cells": [
  {
   "cell_type": "markdown",
   "id": "24713df4",
   "metadata": {},
   "source": [
    "# Lab S2 (6./7./9./10./ Dec 2021): Initial Ideas, First Tests"
   ]
  },
  {
   "cell_type": "code",
   "execution_count": 1,
   "id": "b38f18de",
   "metadata": {},
   "outputs": [],
   "source": [
    "import numpy as np\n",
    "import cv2\n",
    "import json\n",
    "import PIL\n",
    "from matplotlib import image\n",
    "from matplotlib import pyplot as plt\n",
    "import os\n",
    "from PIL import Image\n"
   ]
  },
  {
   "cell_type": "markdown",
   "id": "8330a4fc",
   "metadata": {},
   "source": [
    "#### Thoughts and notes\n",
    "- preprocessing should do color correction to deal with the different camera colors\n"
   ]
  },
  {
   "cell_type": "markdown",
   "id": "103390a2",
   "metadata": {},
   "source": [
    "#### stiching the images together\n"
   ]
  },
  {
   "cell_type": "code",
   "execution_count": 2,
   "id": "73bc768c",
   "metadata": {},
   "outputs": [],
   "source": [
    "def integrate_timestep(timestep,path,homography,mask):\n",
    "    \"\"\"\n",
    "    Input:\n",
    "        -timestep\n",
    "        -path to folder containing only images and homograpies (no subfolders)\n",
    "        - mask=path to mask file\n",
    "        -homographies: loaded json dict\n",
    "        \n",
    "        returns integrated image as numy array\n",
    "        \n",
    "        Usage: see exmpale \"How to use integrate_timestep\"\n",
    "    \"\"\"\n",
    "    #create a mask:\n",
    "    image_mask = np.asarray(PIL.Image.open(mask))\n",
    "    mask = np.zeros(shape=(1024,1024,3))\n",
    "    #PIL.Image.fromarray(np.uint8(image_mask)).show()\n",
    "    for i in range(3): \n",
    "        mask[:,:,i] = image_mask.astype(bool).copy()\n",
    "\n",
    "    #create overlap mask:\n",
    "    ov_mask=mask.copy()\n",
    "\n",
    "    #final_integrated_image:\n",
    "    int_im=np.zeros(shape=(len(mask),len(mask[0]),3))\n",
    "\n",
    "\n",
    "\n",
    "    # Opening JSON file\n",
    "    data = homography\n",
    "    names=list(data.keys())\n",
    "\n",
    "\n",
    "    #filter for timestep:\n",
    "    index= list([True if item[0]==str(timestep) else False for i,item in enumerate(names)])\n",
    "    filtered_names = [i for (i, v) in zip(names, index) if v]\n",
    "\n",
    "\n",
    "    #apply homographies, the mask overlap and integrate images\n",
    "    for i,name in enumerate(filtered_names):\n",
    "        #load homography\n",
    "        homography= np.array(data[name])\n",
    "\n",
    "        #load image\n",
    "        im_file_name=path+name+\".png\"\n",
    "        im = np.asarray(PIL.Image.open(im_file_name))\n",
    "\n",
    "        #mask out:\n",
    "        im = np.multiply(im, mask) \n",
    "\n",
    "        #apply homography\n",
    "        #PIL.Image.fromarray(np.uint8(im)).show()\n",
    "        warped_image =cv2.warpPerspective(im,homography,im.shape[:2])\n",
    "        #PIL.Image.fromarray(np.uint8(warped_image)).show()\n",
    "\n",
    "        #adjust final overlapp mask\n",
    "        ov_mask = np.where(warped_image > 0, ov_mask, 0)\n",
    "\n",
    "        #integrate_images:\n",
    "        int_im=int_im+warped_image\n",
    "\n",
    "    #only areas where all images contributed count:\n",
    "    int_im=np.multiply(int_im, ov_mask) \n",
    "\n",
    "    #normalize\n",
    "    int_im=int_im/len(filtered_names)\n",
    "    \n",
    "    return int_im"
   ]
  },
  {
   "cell_type": "markdown",
   "id": "b54c4717",
   "metadata": {},
   "source": [
    "## Example how to use integrate_timestep:"
   ]
  },
  {
   "cell_type": "code",
   "execution_count": 3,
   "id": "638048d4",
   "metadata": {},
   "outputs": [],
   "source": [
    "\n",
    "\n",
    "path='data/train/train-1-9/'\n",
    "f = open(path+\"homographies.json\")\n",
    "homography = json.load(f)\n",
    "f.close()\n",
    "mask='data/mask.png'\n",
    "results= integrate_timestep(2,path,homography,'data/mask.png')\n",
    "#open output image in photos programm:\n",
    "PIL.Image.fromarray(np.uint8(results)).show()"
   ]
  },
  {
   "cell_type": "markdown",
   "id": "0b5b38c6",
   "metadata": {},
   "source": [
    "### generate preprocessed image folder:"
   ]
  },
  {
   "cell_type": "code",
   "execution_count": 15,
   "id": "2fdec8ea",
   "metadata": {},
   "outputs": [
    {
     "name": "stdout",
     "output_type": "stream",
     "text": [
      "data/train\\train-1-0/\n",
      "data/train\\train-1-0/\n",
      "data/train\\train-1-1/\n",
      "data/train\\train-1-1/\n",
      "data/train\\train-1-10/\n",
      "data/train\\train-1-10/\n",
      "data/train\\train-1-11/\n",
      "data/train\\train-1-11/\n",
      "data/train\\train-1-12/\n",
      "data/train\\train-1-12/\n",
      "data/train\\train-1-13/\n",
      "data/train\\train-1-13/\n",
      "data/train\\train-1-14/\n",
      "data/train\\train-1-14/\n",
      "data/train\\train-1-15/\n",
      "data/train\\train-1-15/\n",
      "data/train\\train-1-2/\n",
      "data/train\\train-1-2/\n",
      "data/train\\train-1-3/\n",
      "data/train\\train-1-3/\n",
      "data/train\\train-1-4/\n",
      "data/train\\train-1-4/\n",
      "data/train\\train-1-5/\n",
      "data/train\\train-1-5/\n",
      "data/train\\train-1-6/\n",
      "data/train\\train-1-6/\n",
      "data/train\\train-1-7/\n",
      "data/train\\train-1-7/\n",
      "data/train\\train-1-8/\n",
      "data/train\\train-1-8/\n",
      "data/train\\train-1-9/\n",
      "data/train\\train-1-9/\n",
      "data/train\\train-2-0/\n",
      "data/train\\train-2-0/\n",
      "data/train\\train-2-1/\n",
      "data/train\\train-2-1/\n",
      "data/train\\train-2-2/\n",
      "data/train\\train-2-2/\n",
      "data/train\\train-2-3/\n",
      "data/train\\train-2-3/\n",
      "data/train\\train-2-4/\n",
      "data/train\\train-2-4/\n",
      "data/train\\train-2-5/\n",
      "data/train\\train-2-5/\n",
      "data/train\\train-2-6/\n",
      "data/train\\train-2-6/\n",
      "data/train\\train-2-7/\n",
      "data/train\\train-2-7/\n",
      "data/train\\train-2-8/\n",
      "data/train\\train-2-8/\n",
      "data/train\\train-2-9/\n",
      "data/train\\train-2-9/\n"
     ]
    }
   ],
   "source": [
    "\"\"\"\n",
    "generates integrated images with non existing preprocessing! \n",
    "Also order of images is lost for now, I just wanted to get a prototype working!\n",
    "\n",
    "saves all integrated imaes in output folder:\n",
    "output_folder= 'data/train/aggregated'\n",
    "\"\"\"\n",
    "\n",
    "\n",
    "folder = 'data/train'  #e.g.:'data/train'\n",
    "output_folder= 'data/train/aggregated/'\n",
    "try:\n",
    "    os.mkdir(output_folder)\n",
    "except:\n",
    "    pass\n",
    "\n",
    "mask='data/mask.png'\n",
    "\n",
    "paths=[]\n",
    "for x in os.walk(folder):\n",
    "    paths.append(x[0]+'/')\n",
    "#remove main folder and aggregated from list: !!!!!!!!!!!!!!!!!!!!!!!!!!!!!!!!!!!needs to be done better!!!!\n",
    "paths=paths[2:]\n",
    "\n",
    "for name_part_A, path in enumerate(paths):\n",
    "    f = open(path+\"/homographies.json\")\n",
    "    homography = json.load(f)\n",
    "    f.close()\n",
    "    \n",
    "    for timestep in range(7):\n",
    "        int_timestep= integrate_timestep(timestep,path,homography,'data/mask.png')\n",
    "        #save image:\n",
    "        im = Image.fromarray(np.uint8(int_timestep))\n",
    "        name=output_folder+str(name_part_A)+str(timestep)+\".jpeg\"\n",
    "        im.save(name)\n",
    "        \n",
    "    \n",
    "    \n"
   ]
  },
  {
   "cell_type": "code",
   "execution_count": null,
   "id": "46548943",
   "metadata": {},
   "outputs": [],
   "source": []
  },
  {
   "cell_type": "code",
   "execution_count": null,
   "id": "4d68a330",
   "metadata": {},
   "outputs": [],
   "source": [
    "#apply preprocessing to each image"
   ]
  },
  {
   "cell_type": "code",
   "execution_count": null,
   "id": "b6d8483a",
   "metadata": {},
   "outputs": [],
   "source": []
  }
 ],
 "metadata": {
  "kernelspec": {
   "display_name": "AI_2",
   "language": "python",
   "name": "ai_2"
  },
  "language_info": {
   "codemirror_mode": {
    "name": "ipython",
    "version": 3
   },
   "file_extension": ".py",
   "mimetype": "text/x-python",
   "name": "python",
   "nbconvert_exporter": "python",
   "pygments_lexer": "ipython3",
   "version": "3.8.5"
  }
 },
 "nbformat": 4,
 "nbformat_minor": 5
}
