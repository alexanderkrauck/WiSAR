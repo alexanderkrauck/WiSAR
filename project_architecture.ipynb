{
 "cells": [
  {
   "cell_type": "markdown",
   "id": "12476f6e",
   "metadata": {},
   "source": [
    "# Project architecture (only function comments no code!)\n"
   ]
  },
  {
   "cell_type": "markdown",
   "id": "c3c812ab",
   "metadata": {},
   "source": [
    "## Task:\n",
    "* ## Initial Ideas, First Tests "
   ]
  },
  {
   "cell_type": "markdown",
   "id": "79b636e3",
   "metadata": {},
   "source": [
    "### Things to be implemented independendly of anomly detetor used:"
   ]
  },
  {
   "cell_type": "code",
   "execution_count": null,
   "id": "4a3919e7",
   "metadata": {},
   "outputs": [],
   "source": [
    "def genereate peporcessed images (Bernhard will finish what he has started)\n",
    "\n",
    "\"\"\"generates training images by applying preprocessing\n",
    "\n",
    "\n",
    "    input: our data folder!\n",
    "    \n",
    "    output: a list of image files stored in a folder (do this so it is cleanly sperated from our dataloader)\n",
    "    \n",
    "    Methode: keep it really simple for the beginnig: Just apply integration\n",
    "    \n",
    "\"\"\"\n",
    "#TODO apply already written image integration to all images and add further stuff!"
   ]
  },
  {
   "cell_type": "code",
   "execution_count": null,
   "id": "15bcbeb4",
   "metadata": {},
   "outputs": [],
   "source": [
    "def look_up labels (Somone pleas do it)\n",
    "\"\"\"\n",
    "    returns the area (rectangle) in which an anomly is detected\n",
    "    \n",
    "    only used for validation set (we don not have labels anywhere else)\n",
    "\n",
    "\"\"\""
   ]
  },
  {
   "cell_type": "code",
   "execution_count": null,
   "id": "785ccd0a",
   "metadata": {},
   "outputs": [],
   "source": [
    "def evaluate (somone please do it)\n",
    "\"\"\"\n",
    "    Input:\n",
    "        image+reconstruced one\n",
    "        \n",
    "    needs to get:\n",
    "        - area where anomly was detected (using calculate differences)\n",
    "        - areas from labels\n",
    "        \n",
    "    Output evaluation metric (Intersection over Union see slides!)\n",
    "\n",
    "\"\"\""
   ]
  },
  {
   "cell_type": "markdown",
   "id": "ae0c3cf5",
   "metadata": {},
   "source": [
    "### Things to implement if we want to use autoencoders:"
   ]
  },
  {
   "cell_type": "code",
   "execution_count": null,
   "id": "5b9339d7",
   "metadata": {},
   "outputs": [],
   "source": [
    "def calculate differences in input to recunstruced output: (somone please do it)\n",
    "\"\"\"\n",
    "Input: two images the original one and the reconstructed one (reconstructed one has small differences)\n",
    "\n",
    "Output: rectangles marking areas of difference\n",
    "\n",
    "Methodes: Keep it simple for the beginning use commonly used methode : pixelwise KL divergence \n",
    "(Maybe double check if pixelwise KL_divergence really is the standard methode)\n",
    "\"\"\""
   ]
  },
  {
   "cell_type": "code",
   "execution_count": null,
   "id": "a95fb49f",
   "metadata": {},
   "outputs": [],
   "source": [
    "def dataloader + autoencoder (somone please do it /imporve the exisitng code)\n",
    "\n",
    "\"\"\"\n",
    "Input: folder of preprocessed images\n",
    "\n",
    "Output: preprocessed image +reconstructed one (input to evaluate)\n",
    "\n",
    "\n",
    "Idea for Methode:\n",
    "overfitting is our biggest enemy! We need to try to keep model complexity low!\n",
    "Hence, don't take whole image as input, take croped out part as input!\n",
    "Hence dataloader should generate criopped out images!\n",
    "\n",
    "Keep it simple:\n",
    "    dataloader \n",
    "        - given a size it should crop out\n",
    "        - takes image, returns cropped out part of the image\n",
    "        - Make dataloader at least a little bit efficient. (don't constantly load unload images, uses one image\n",
    "        for multiple cropped areas)\n",
    "    autoencoder:\n",
    "        -the most simple autoencoder you can imagine! (We just want a prototype)\n",
    "\n",
    "\"\"\""
   ]
  }
 ],
 "metadata": {
  "kernelspec": {
   "display_name": "AI_2",
   "language": "python",
   "name": "ai_2"
  },
  "language_info": {
   "codemirror_mode": {
    "name": "ipython",
    "version": 3
   },
   "file_extension": ".py",
   "mimetype": "text/x-python",
   "name": "python",
   "nbconvert_exporter": "python",
   "pygments_lexer": "ipython3",
   "version": "3.8.5"
  }
 },
 "nbformat": 4,
 "nbformat_minor": 5
}
