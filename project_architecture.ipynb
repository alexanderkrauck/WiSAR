{
 "cells": [
  {
   "cell_type": "markdown",
   "id": "20973e9d",
   "metadata": {},
   "source": [
    "# Project architecture (only function comments no code!)\n"
   ]
  },
  {
   "cell_type": "markdown",
   "id": "7e1827bb",
   "metadata": {},
   "source": [
    "## Task:\n",
    "* ## Initial Ideas, First Tests "
   ]
  },
  {
   "cell_type": "markdown",
   "id": "82bbac78",
   "metadata": {},
   "source": [
    "#### random things I noted while doing this:\n",
    "- the people in our aggregated images are moving around quite a bit!\n",
    "- General note: the more seperate files we use, the less merge conflicts (super anoying in jupiter) we have!"
   ]
  },
  {
   "cell_type": "markdown",
   "id": "20759228",
   "metadata": {},
   "source": [
    "### Things to be implemented independendly of anomly detetor used:\n",
    "General note: the more seperate files we use, the less merge conflicts (super anoying in jupiter) we have!"
   ]
  },
  {
   "cell_type": "code",
   "execution_count": null,
   "id": "6d0c8322",
   "metadata": {},
   "outputs": [],
   "source": [
    "def genereate peporcessed images (Bernhard has done crappy implementation already)\n",
    "\n",
    "\"\"\"generates training images by applying preprocessing\n",
    "\n",
    "\n",
    "    input: our data folder!\n",
    "    \n",
    "    output: a list of image files stored in a folder (do this so it is cleanly sperated from our dataloader)\n",
    "            (preproccesiing might be slow so we only want to do it once!)\n",
    "    \n",
    "    Methode: keep it really simple for the beginnig: Just apply integration\n",
    "    \n",
    "    !!please code this in seperate (Jupyter/Python) file so we don't have merge conflicts\n",
    "    \n",
    "\"\"\"\n",
    "#currently integrated images can be found at data/tain/aggregated (after aggregation has been executed once)"
   ]
  },
  {
   "cell_type": "code",
   "execution_count": null,
   "id": "d82d0ae9",
   "metadata": {},
   "outputs": [],
   "source": [
    "def look_up labels (Somone pleas do it)\n",
    "\"\"\"\n",
    "    returns the area (rectangle) in which an anomly is labeled\n",
    "    \n",
    "    only used for validation set (we don not have labels anywhere else)\n",
    "    \n",
    "    !!please code this in seperate (Jupyter/Python) file so we don't have merge conflicts\n",
    "\"\"\""
   ]
  },
  {
   "cell_type": "code",
   "execution_count": null,
   "id": "8b895994",
   "metadata": {},
   "outputs": [],
   "source": [
    "def evaluate (somone please do it)\n",
    "\"\"\"\n",
    "    Input:\n",
    "        image+reconstruced one\n",
    "        \n",
    "    needs to get:\n",
    "        - area where anomly was detected (using calculate differences)\n",
    "        - areas from labels\n",
    "        \n",
    "    Output evaluation metric (Intersection over Union see slides!)\n",
    "    \n",
    "    !!please code this in seperate (Jupyter/Python) file so we don't have merge conflicts\n",
    "\n",
    "\"\"\""
   ]
  },
  {
   "cell_type": "markdown",
   "id": "00e0e300",
   "metadata": {},
   "source": [
    "### Things to implement if we want to use autoencoders:"
   ]
  },
  {
   "cell_type": "code",
   "execution_count": null,
   "id": "4f166c29",
   "metadata": {},
   "outputs": [],
   "source": [
    "def calculate differences in input to recunstruced output: (somone please do it)\n",
    "\"\"\"\n",
    "Input: two images the original one and the reconstructed one (reconstructed one has small differences)\n",
    "\n",
    "Output: rectangles marking areas of difference\n",
    "\n",
    "Methodes: Keep it simple for the beginning use commonly used methode : pixelwise KL divergence \n",
    "(Maybe double check if pixelwise KL_divergence really is the standard methode)\n",
    "\n",
    "!!please code this in seperate (Jupyter/Python) file so we don't have merge conflicts\n",
    "\"\"\""
   ]
  },
  {
   "cell_type": "code",
   "execution_count": null,
   "id": "b9d87565",
   "metadata": {},
   "outputs": [],
   "source": [
    "def dataloader + autoencoder (somone please do it /imporve the exisitng code)\n",
    "\n",
    "\"\"\"\n",
    "Input: folder of preprocessed images\n",
    "\n",
    "Output: preprocessed image +reconstructed one (input to evaluate)\n",
    "\n",
    "\n",
    "Idea for Methode:\n",
    "overfitting is our biggest enemy! We need to try to keep model complexity low!\n",
    "Hence, don't take whole image as input, take croped out part as input!\n",
    "Hence dataloader should generate criopped out images!\n",
    "\n",
    "Keep it simple:\n",
    "    dataloader \n",
    "        - given a size it should crop out\n",
    "        - takes image, returns cropped out part of the image\n",
    "        - Make dataloader at least a little bit efficient. (don't constantly load unload images, uses one image\n",
    "        for multiple cropped areas)\n",
    "    autoencoder:\n",
    "        -the most simple autoencoder you can imagine! (We just want a prototype)\n",
    "        \n",
    "!!please code this in seperate (Jupyter/Python) file so we don't have merge conflicts\n",
    "\"\"\""
   ]
  }
 ],
 "metadata": {
  "kernelspec": {
   "display_name": "AI_2",
   "language": "python",
   "name": "ai_2"
  },
  "language_info": {
   "codemirror_mode": {
    "name": "ipython",
    "version": 3
   },
   "file_extension": ".py",
   "mimetype": "text/x-python",
   "name": "python",
   "nbconvert_exporter": "python",
   "pygments_lexer": "ipython3",
   "version": "3.8.5"
  }
 },
 "nbformat": 4,
 "nbformat_minor": 5
}
