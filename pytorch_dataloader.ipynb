{
 "cells": [
  {
   "cell_type": "code",
   "execution_count": 2,
   "id": "ab6797ea",
   "metadata": {},
   "outputs": [],
   "source": [
    "import numpy as np\n",
    "from PIL import Image\n",
    "import torch\n",
    "from torch.utils.data import Dataset\n",
    "from torch.utils.data import DataLoader\n",
    "from matplotlib import image\n",
    "from matplotlib import pyplot as plt"
   ]
  },
  {
   "cell_type": "code",
   "execution_count": 3,
   "id": "7b3178c5",
   "metadata": {},
   "outputs": [],
   "source": [
    "class ImageDataset(Dataset):\n",
    "\n",
    "    def __init__(self, input_arrays):\n",
    "        self.input_arrays = input_arrays\n",
    "\n",
    "        if len(self.targets)==0:\n",
    "            self.targets = np.zeros(len(self.input_arrays))\n",
    "\n",
    "    def __len__(self):\n",
    "        return len(self.input_arrays)\n",
    "\n",
    "    def __getitem__(self, index):\n",
    "        return self.input_arrays[index, :, :, :], self.targets[index, :, :, :]\n",
    "    \n",
    "    #TODO: ImageDataset, methods testing\n",
    "\n",
    "class Pytorch_Dataloader:\n",
    "    \n",
    "    def __init__(self, train_path: str, test_path: str, val_path: str) -> None:\n",
    "        \n",
    "        self.paths = [train_path, test_path, val_path]\n",
    "        self.train_photos = []\n",
    "        self.test_photos = []\n",
    "        self.val_photos = []\n",
    "        \n",
    "        for idx, path in enumerate(self.paths):\n",
    "            for timestep in range(0,7):\n",
    "                timestep_photos = []\n",
    "                for prespective in [\"B05\",\"B04\",\"B03\",\"B02\",\"B01\",\"G01\",\"G02\",\"G03\",\"G04\",\"G05\"]:\n",
    "                    name = str(timestep) + \"-\" + prespective + \".png\"\n",
    "                    im = Image.open(os.path.join(path, name))\n",
    "                    #TODO: apply first preprocesseing steps here (e.g. using the mask)\n",
    "                    timestep_photos.append(im)\n",
    "            \n",
    "            if(idx==0):\n",
    "                self.train_photos.append(timestep_photos)\n",
    "            elif(idx==1):\n",
    "                self.test_photos.append(timestep_photos)\n",
    "            elif(idx==2):\n",
    "                self.val_photos.append(timestep_photos)\n",
    "                \n",
    "        #TODO: __init__ testing\n",
    "                \n",
    "    def generate_dataloaders(self, train_batch_size: int, test_batch_size: int):\n",
    "        \n",
    "        self.train_dataset = ImageDataset(self.train_photos)\n",
    "        self.train_dataloader = DataLoader(dataset=train_dataset, train_batch_size=train_batch_size)\n",
    "        \n",
    "        self.test_dataset = ImageDataset(self.test_photos)\n",
    "        self.train_dataloader = DataLoader(dataset=test_dataset, test_batch_size=test_batch_size)\n",
    "        \n",
    "        self.val_dataset = ImageDataset(self.val_photos)\n",
    "        self.val_dataloader = DataLoader(dataset=val_dataset, test_batch_size=test_batch_size)\n",
    "        \n",
    "    #TODO: generate_dataloaders testing\n",
    "    \n",
    "    #TODO: Training routine using unsupervised approach"
   ]
  },
  {
   "cell_type": "code",
   "execution_count": null,
   "id": "03be33e6",
   "metadata": {},
   "outputs": [],
   "source": []
  }
 ],
 "metadata": {
  "kernelspec": {
   "display_name": "Python 3 (ipykernel)",
   "language": "python",
   "name": "python3"
  },
  "language_info": {
   "codemirror_mode": {
    "name": "ipython",
    "version": 3
   },
   "file_extension": ".py",
   "mimetype": "text/x-python",
   "name": "python",
   "nbconvert_exporter": "python",
   "pygments_lexer": "ipython3",
   "version": "3.9.5"
  }
 },
 "nbformat": 4,
 "nbformat_minor": 5
}
